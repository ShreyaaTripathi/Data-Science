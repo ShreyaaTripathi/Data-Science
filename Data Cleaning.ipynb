{
 "cells": [
  {
   "cell_type": "code",
   "execution_count": 15,
   "id": "beaab166",
   "metadata": {},
   "outputs": [
    {
     "name": "stdout",
     "output_type": "stream",
     "text": [
      "ORIGINAL DATA:\n",
      "{'name': ['Alice', 'Bob', 'Charlie', 'David', 'Emily', 'Frank', 'Grace'], 'age': [25, 30, nan, 'thirty-five', 22, 45, 'unknown'], 'gender': ['Female', 'Male', 'Male', 'Male', 'Female', 'Other', 'Male'], 'country': ['USA', 'Canada', 'Mexico', 'USA', 'Australia', 'Unknown', 'UK'], 'monthly_salary': [50000, 75000, '60k', nan, 40000, 'unknown', 80000], 'annual_income': ['60,000', '90,000', nan, '100,000', '40k', '75k', 'unknown']}\n",
      "\n",
      "CLEANED DATA:\n",
      "      name   age      gender    country  annual_income\n",
      "0    Alice  25.0      Female        USA     60000000.0\n",
      "1      Bob  30.0        Male     Canada     90000000.0\n",
      "2  Charlie  30.0        Male     Mexico            NaN\n",
      "3    David  35.0        Male        USA    100000000.0\n",
      "4    Emily  22.0      Female  Australia        40000.0\n",
      "5    Frank  45.0  Non-binary    Unknown        75000.0\n",
      "6    Grace  30.0        Male         UK            NaN\n"
     ]
    }
   ],
   "source": [
    "import numpy as np\n",
    "import pandas as pd\n",
    "\n",
    "messy_data = {\n",
    "    'name': ['Alice', 'Bob', 'Charlie', 'David', 'Emily', 'Frank', 'Grace'],\n",
    "    'age': [25, 30, np.nan, 'thirty-five', 22, 45, 'unknown'],\n",
    "    'gender': ['Female', 'Male', 'Male', 'Male', 'Female', 'Other', 'Male'],\n",
    "    'country': ['USA', 'Canada', 'Mexico', 'USA', 'Australia', 'Unknown', 'UK'],\n",
    "    'monthly_salary': [50000, 75000, '60k', np.nan, 40000, 'unknown', 80000],\n",
    "    'annual_income': ['60,000', '90,000', np.nan, '100,000', '40k', '75k', 'unknown']\n",
    "}\n",
    "\n",
    "# Import messy data into a Pandas DataFrame\n",
    "messy_df = pd.DataFrame(messy_data)\n",
    "\n",
    "# Handling non-numeric data types and missing values:\n",
    "messy_df['age'] = pd.to_numeric(messy_df['age'].replace('thirty-five', 35), errors='coerce')\n",
    "messy_df['age'].fillna(messy_df['age'].median(), inplace=True)\n",
    "messy_df.fillna({'country': 'Unknown', 'gender': 'Other'}, inplace=True)\n",
    "\n",
    "# Handling inconsistent annual income format:\n",
    "messy_df['annual_income'] = pd.to_numeric(messy_df['annual_income'].str.replace('[^\\d.]', '', regex=True), errors='coerce')\n",
    "messy_df['annual_income'] *= 1000  # Multiply by 1000 to convert 'k' to 000\n",
    "\n",
    "# Remove dependent column\n",
    "messy_df.drop('monthly_salary', axis=1, inplace=True)\n",
    "\n",
    "# Convert 'Other' to 'Non-binary'\n",
    "messy_df['gender'].replace('Other', 'Non-binary', inplace=True)\n",
    "\n",
    "print(\"ORIGINAL DATA:\")\n",
    "print(messy_data)\n",
    "print()\n",
    "print(\"CLEANED DATA:\")\n",
    "print(messy_df)\n"
   ]
  },
  {
   "cell_type": "code",
   "execution_count": null,
   "id": "b485f836",
   "metadata": {},
   "outputs": [],
   "source": []
  },
  {
   "cell_type": "code",
   "execution_count": null,
   "id": "468853f6",
   "metadata": {},
   "outputs": [],
   "source": []
  },
  {
   "cell_type": "code",
   "execution_count": null,
   "id": "be7be3ee",
   "metadata": {},
   "outputs": [],
   "source": []
  },
  {
   "cell_type": "code",
   "execution_count": null,
   "id": "01b03ae0",
   "metadata": {},
   "outputs": [],
   "source": []
  },
  {
   "cell_type": "code",
   "execution_count": null,
   "id": "6f2d62c9",
   "metadata": {},
   "outputs": [],
   "source": []
  }
 ],
 "metadata": {
  "kernelspec": {
   "display_name": "Python 3 (ipykernel)",
   "language": "python",
   "name": "python3"
  },
  "language_info": {
   "codemirror_mode": {
    "name": "ipython",
    "version": 3
   },
   "file_extension": ".py",
   "mimetype": "text/x-python",
   "name": "python",
   "nbconvert_exporter": "python",
   "pygments_lexer": "ipython3",
   "version": "3.10.9"
  }
 },
 "nbformat": 4,
 "nbformat_minor": 5
}
